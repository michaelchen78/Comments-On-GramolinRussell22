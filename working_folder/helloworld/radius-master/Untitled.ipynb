{
 "cells": [
  {
   "cell_type": "code",
   "execution_count": 2,
   "id": "22f65fb8",
   "metadata": {
    "scrolled": true
   },
   "outputs": [
    {
     "name": "stdout",
     "output_type": "stream",
     "text": [
      "Model: N = 7, lambda = 0.18\n",
      "\n",
      "18-fold group cross-validation results:\n",
      "1569.683558855374 1671.5251199871673\n",
      "hello\n",
      "\n",
      "Results obtained using the full dataset:\n",
      "L = 1578, chi^2 = 1572\n",
      "\n",
      "Best-fit normalizations:\n",
      "[1.00042358 1.00049201 0.99858389 0.99816297 0.99803927 0.99982523\n",
      " 0.99999696 1.00022645 0.99873494 1.00012568 1.0000447  0.99966327\n",
      " 0.99849896 0.99870414 0.99860097 1.00006271 1.00012592 0.9985856\n",
      " 0.99865375 0.99838993 0.99999799 0.9994354  1.00016343 0.99979535\n",
      " 0.99848548 0.99874925 1.00133141 0.99787359 0.99744329 1.00121752\n",
      " 0.99798878]\n",
      "\n",
      "Best-fit parameters:\n",
      "Lambda = 1.052 +/- 0.024 GeV\n",
      "alpha1 = 0.404 +/- 0.047\n",
      "beta1 = -0.102 +/- 0.052\n",
      "alpha2 = 1.068 +/- 0.147\n",
      "beta2 = -1.127 +/- 0.361\n",
      "alpha3 = 2.500 +/- 0.668\n",
      "beta3 = -1.523 +/- 1.164\n",
      "alpha4 = 1.946 +/- 1.478\n",
      "beta4 = 1.250 +/- 1.689\n",
      "alpha5 = -1.113 +/- 1.659\n",
      "beta5 = 2.149 +/- 1.620\n",
      "alpha6 = -0.778 +/- 1.798\n",
      "beta6 = -2.061 +/- 1.752\n",
      "alpha7 = 1.081 +/- 1.162\n",
      "beta7 = -2.868 +/- 0.785\n",
      "\n",
      "Extracted radii:\n",
      "<b1^2> = 11.37 +/- 0.15 (stat) +/- 0.14 (syst) 1/GeV^2\n",
      "r_E = 0.885 +/- 0.005 (stat) +/- 0.005 (syst) fm\n"
     ]
    }
   ],
   "source": [
    "%run fit.py"
   ]
  },
  {
   "cell_type": "code",
   "execution_count": 3,
   "id": "863a5094",
   "metadata": {},
   "outputs": [
    {
     "name": "stdout",
     "output_type": "stream",
     "text": [
      "Model: N = 7, lambda = 0.19\n",
      "\n",
      "18-fold group cross-validation results:\n",
      "1569.7418466374224 1671.5189844526647\n",
      "hello\n",
      "\n",
      "Results obtained using the full dataset:\n",
      "L = 1579, chi^2 = 1572\n",
      "\n",
      "Best-fit normalizations:\n",
      "[1.00041808 1.00049007 0.99859382 0.99817598 0.99805242 0.99982775\n",
      " 0.99999684 1.00022133 0.99874049 1.00012871 1.00004428 0.99967078\n",
      " 0.99850354 0.99870699 0.99860046 1.00006275 1.00012262 0.99859181\n",
      " 0.99865723 0.99839261 0.99999635 0.99943224 1.0001634  0.99979642\n",
      " 0.99848976 0.99875681 1.00132766 0.99787294 0.99745292 1.0012098\n",
      " 0.997994  ]\n",
      "\n",
      "Best-fit parameters:\n",
      "Lambda = 1.052 +/- 0.024 GeV\n",
      "alpha1 = 0.405 +/- 0.047\n",
      "beta1 = -0.103 +/- 0.052\n",
      "alpha2 = 1.067 +/- 0.144\n",
      "beta2 = -1.136 +/- 0.354\n",
      "alpha3 = 2.495 +/- 0.654\n",
      "beta3 = -1.552 +/- 1.137\n",
      "alpha4 = 1.936 +/- 1.444\n",
      "beta4 = 1.213 +/- 1.647\n",
      "alpha5 = -1.120 +/- 1.617\n",
      "beta5 = 2.145 +/- 1.577\n",
      "alpha6 = -0.771 +/- 1.753\n",
      "beta6 = -2.032 +/- 1.707\n",
      "alpha7 = 1.089 +/- 1.137\n",
      "beta7 = -2.852 +/- 0.766\n",
      "\n",
      "Extracted radii:\n",
      "<b1^2> = 11.37 +/- 0.15 (stat) +/- 0.14 (syst) 1/GeV^2\n",
      "r_E = 0.885 +/- 0.005 (stat) +/- 0.005 (syst) fm\n"
     ]
    }
   ],
   "source": [
    "%run fit.py"
   ]
  },
  {
   "cell_type": "code",
   "execution_count": null,
   "id": "96dbec9a",
   "metadata": {},
   "outputs": [],
   "source": []
  }
 ],
 "metadata": {
  "kernelspec": {
   "display_name": "Python 3 (ipykernel)",
   "language": "python",
   "name": "python3"
  },
  "language_info": {
   "codemirror_mode": {
    "name": "ipython",
    "version": 3
   },
   "file_extension": ".py",
   "mimetype": "text/x-python",
   "name": "python",
   "nbconvert_exporter": "python",
   "pygments_lexer": "ipython3",
   "version": "3.9.12"
  }
 },
 "nbformat": 4,
 "nbformat_minor": 5
}
